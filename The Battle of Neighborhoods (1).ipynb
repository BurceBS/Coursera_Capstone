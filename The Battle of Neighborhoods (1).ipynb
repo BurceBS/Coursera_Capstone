{
 "cells": [
  {
   "cell_type": "markdown",
   "metadata": {},
   "source": [
    "# The Battle of Neighborhoods by BBogmakSit"
   ]
  },
  {
   "cell_type": "markdown",
   "metadata": {},
   "source": [
    "## Intoduction/Business Problem"
   ]
  },
  {
   "cell_type": "markdown",
   "metadata": {},
   "source": [
    "The target group of this project is entrants who are planning to open a small cafe serving coffee and snack. \n",
    "\n",
    "The analysis is built on two crowded cities on opposite coasts of US: Manhattan, NY and San Francisco, CA. The aim is help the potential entrepreneurs to decide which city to open the cafe.\n",
    "\n",
    "Especially since last year, people generally spent time on open air. And sometimes, they grab something to eat or drink before going to  park. Therefore, the focus is the areas close to parks and other open air places. In addition to the proximity to the parks and open air places, the location should be that the number of the potential rivals are less compared to the other options. So that, the potential customers of that area are divided between less number of venues."
   ]
  },
  {
   "cell_type": "markdown",
   "metadata": {},
   "source": [
    "## Data"
   ]
  },
  {
   "cell_type": "markdown",
   "metadata": {},
   "source": [
    "In order to compare Manhattan and San Francisco in terms of open air spaces and the number of cafes, Foursquare data of these cities is needed. The venues information and their location information will be collected. Those would be enough to compare the cities in the scope explained. Because, when exploring the venues thorugh Forsquare data, one can reach both location and type of venues.\n",
    "\n",
    "Let's start retrieving the necessary data."
   ]
  },
  {
   "cell_type": "markdown",
   "metadata": {},
   "source": [
    "First, define the credentials and some parameters."
   ]
  },
  {
   "cell_type": "code",
   "execution_count": 1,
   "metadata": {},
   "outputs": [],
   "source": [
    "CLIENT_ID = 'Deleted after run' \n",
    "CLIENT_SECRET = 'Deleted after run' \n",
    "VERSION = '20180605' \n",
    "LIMIT = 100"
   ]
  },
  {
   "cell_type": "markdown",
   "metadata": {},
   "source": [
    "The coordinates are found online, and defined as below."
   ]
  },
  {
   "cell_type": "code",
   "execution_count": 2,
   "metadata": {},
   "outputs": [],
   "source": [
    "#coordinates of Manhattan\n",
    "mn_latitude=40.730610\n",
    "mn_longitude=-73.935242\n",
    "\n",
    "#coordinates of San Francisco\n",
    "sf_latitude=37.773972\n",
    "sf_longitude=-122.431297"
   ]
  },
  {
   "cell_type": "code",
   "execution_count": 3,
   "metadata": {},
   "outputs": [],
   "source": [
    "#Create the url's for the venues in Manhattan and San Francisco\n",
    "url_mn = 'https://api.foursquare.com/v2/venues/explore?&client_id={}&client_secret={}&v={}&ll={},{}&limit={}'.format(\n",
    "    CLIENT_ID, \n",
    "    CLIENT_SECRET, \n",
    "    VERSION, \n",
    "    mn_latitude, \n",
    "    mn_longitude, \n",
    "    LIMIT)\n",
    "\n",
    "url_sf = 'https://api.foursquare.com/v2/venues/explore?&client_id={}&client_secret={}&v={}&ll={},{}&limit={}'.format(\n",
    "    CLIENT_ID, \n",
    "    CLIENT_SECRET, \n",
    "    VERSION, \n",
    "    sf_latitude, \n",
    "    sf_longitude, \n",
    "    LIMIT)"
   ]
  },
  {
   "cell_type": "markdown",
   "metadata": {},
   "source": [
    "In order to work on the data easily, convert the json data into pandas data frame."
   ]
  },
  {
   "cell_type": "code",
   "execution_count": 4,
   "metadata": {},
   "outputs": [],
   "source": [
    "#First import the neccessary libraries\n",
    "import pandas as pd\n",
    "import numpy as np\n",
    "import requests"
   ]
  },
  {
   "cell_type": "markdown",
   "metadata": {},
   "source": [
    "Create the dataframe for Manhattan"
   ]
  },
  {
   "cell_type": "code",
   "execution_count": 7,
   "metadata": {},
   "outputs": [
    {
     "data": {
      "text/html": [
       "<div>\n",
       "<style scoped>\n",
       "    .dataframe tbody tr th:only-of-type {\n",
       "        vertical-align: middle;\n",
       "    }\n",
       "\n",
       "    .dataframe tbody tr th {\n",
       "        vertical-align: top;\n",
       "    }\n",
       "\n",
       "    .dataframe thead th {\n",
       "        text-align: right;\n",
       "    }\n",
       "</style>\n",
       "<table border=\"1\" class=\"dataframe\">\n",
       "  <thead>\n",
       "    <tr style=\"text-align: right;\">\n",
       "      <th></th>\n",
       "      <th>Venue</th>\n",
       "      <th>Venue Latitude</th>\n",
       "      <th>Venue Longitude</th>\n",
       "      <th>Venue Category</th>\n",
       "    </tr>\n",
       "  </thead>\n",
       "  <tbody>\n",
       "    <tr>\n",
       "      <th>0</th>\n",
       "      <td>Bantry Bay Publick House</td>\n",
       "      <td>40.735669</td>\n",
       "      <td>-73.934780</td>\n",
       "      <td>Bar</td>\n",
       "    </tr>\n",
       "    <tr>\n",
       "      <th>1</th>\n",
       "      <td>Alkemy</td>\n",
       "      <td>40.725925</td>\n",
       "      <td>-73.939136</td>\n",
       "      <td>Coffee Shop</td>\n",
       "    </tr>\n",
       "    <tr>\n",
       "      <th>2</th>\n",
       "      <td>Monsignor McGolrick Park</td>\n",
       "      <td>40.724546</td>\n",
       "      <td>-73.943654</td>\n",
       "      <td>Park</td>\n",
       "    </tr>\n",
       "    <tr>\n",
       "      <th>3</th>\n",
       "      <td>Goldie's</td>\n",
       "      <td>40.725632</td>\n",
       "      <td>-73.945146</td>\n",
       "      <td>Cocktail Bar</td>\n",
       "    </tr>\n",
       "    <tr>\n",
       "      <th>4</th>\n",
       "      <td>Diamond Lil</td>\n",
       "      <td>40.725412</td>\n",
       "      <td>-73.946000</td>\n",
       "      <td>Cocktail Bar</td>\n",
       "    </tr>\n",
       "    <tr>\n",
       "      <th>5</th>\n",
       "      <td>Vinnie's Pizzeria</td>\n",
       "      <td>40.725926</td>\n",
       "      <td>-73.941711</td>\n",
       "      <td>Pizza Place</td>\n",
       "    </tr>\n",
       "    <tr>\n",
       "      <th>6</th>\n",
       "      <td>The Henry Norman Hotel</td>\n",
       "      <td>40.727707</td>\n",
       "      <td>-73.944030</td>\n",
       "      <td>Hotel</td>\n",
       "    </tr>\n",
       "    <tr>\n",
       "      <th>7</th>\n",
       "      <td>Syrena Bakery</td>\n",
       "      <td>40.727435</td>\n",
       "      <td>-73.945619</td>\n",
       "      <td>Bakery</td>\n",
       "    </tr>\n",
       "    <tr>\n",
       "      <th>8</th>\n",
       "      <td>McGolrick Park's Down to Earth Farmers Market</td>\n",
       "      <td>40.724424</td>\n",
       "      <td>-73.943620</td>\n",
       "      <td>Farmers Market</td>\n",
       "    </tr>\n",
       "    <tr>\n",
       "      <th>9</th>\n",
       "      <td>Little Dokebi</td>\n",
       "      <td>40.723162</td>\n",
       "      <td>-73.942359</td>\n",
       "      <td>Korean Restaurant</td>\n",
       "    </tr>\n",
       "  </tbody>\n",
       "</table>\n",
       "</div>"
      ],
      "text/plain": [
       "                                           Venue  Venue Latitude  \\\n",
       "0                       Bantry Bay Publick House       40.735669   \n",
       "1                                         Alkemy       40.725925   \n",
       "2                       Monsignor McGolrick Park       40.724546   \n",
       "3                                       Goldie's       40.725632   \n",
       "4                                    Diamond Lil       40.725412   \n",
       "5                              Vinnie's Pizzeria       40.725926   \n",
       "6                         The Henry Norman Hotel       40.727707   \n",
       "7                                  Syrena Bakery       40.727435   \n",
       "8  McGolrick Park's Down to Earth Farmers Market       40.724424   \n",
       "9                                  Little Dokebi       40.723162   \n",
       "\n",
       "   Venue Longitude     Venue Category  \n",
       "0       -73.934780                Bar  \n",
       "1       -73.939136        Coffee Shop  \n",
       "2       -73.943654               Park  \n",
       "3       -73.945146       Cocktail Bar  \n",
       "4       -73.946000       Cocktail Bar  \n",
       "5       -73.941711        Pizza Place  \n",
       "6       -73.944030              Hotel  \n",
       "7       -73.945619             Bakery  \n",
       "8       -73.943620     Farmers Market  \n",
       "9       -73.942359  Korean Restaurant  "
      ]
     },
     "execution_count": 7,
     "metadata": {},
     "output_type": "execute_result"
    }
   ],
   "source": [
    "venues_list_mn=[]\n",
    "results_mn = requests.get(url_mn).json()[\"response\"]['groups'][0]['items']\n",
    "# return only relevant information\n",
    "venues_list_mn.append([(\n",
    "    v['venue']['name'], \n",
    "    v['venue']['location']['lat'], \n",
    "    v['venue']['location']['lng'],  \n",
    "    v['venue']['categories'][0]['name']) for v in results_mn])\n",
    "\n",
    "man_venues = pd.DataFrame([item for venue_list_mn in venues_list_mn for item in venue_list_mn])\n",
    "man_venues.columns = [\n",
    "    'Venue', \n",
    "    'Venue Latitude', \n",
    "    'Venue Longitude', \n",
    "    'Venue Category']\n",
    "\n",
    "man_venues.head(10)\n"
   ]
  },
  {
   "cell_type": "markdown",
   "metadata": {},
   "source": [
    "Now, create the San Francisco dataframe"
   ]
  },
  {
   "cell_type": "code",
   "execution_count": 8,
   "metadata": {},
   "outputs": [
    {
     "data": {
      "text/html": [
       "<div>\n",
       "<style scoped>\n",
       "    .dataframe tbody tr th:only-of-type {\n",
       "        vertical-align: middle;\n",
       "    }\n",
       "\n",
       "    .dataframe tbody tr th {\n",
       "        vertical-align: top;\n",
       "    }\n",
       "\n",
       "    .dataframe thead th {\n",
       "        text-align: right;\n",
       "    }\n",
       "</style>\n",
       "<table border=\"1\" class=\"dataframe\">\n",
       "  <thead>\n",
       "    <tr style=\"text-align: right;\">\n",
       "      <th></th>\n",
       "      <th>Venue</th>\n",
       "      <th>Venue Latitude</th>\n",
       "      <th>Venue Longitude</th>\n",
       "      <th>Venue Category</th>\n",
       "    </tr>\n",
       "  </thead>\n",
       "  <tbody>\n",
       "    <tr>\n",
       "      <th>0</th>\n",
       "      <td>The Center SF</td>\n",
       "      <td>37.774545</td>\n",
       "      <td>-122.430730</td>\n",
       "      <td>Spiritual Center</td>\n",
       "    </tr>\n",
       "    <tr>\n",
       "      <th>1</th>\n",
       "      <td>Toronado</td>\n",
       "      <td>37.771941</td>\n",
       "      <td>-122.431223</td>\n",
       "      <td>Dive Bar</td>\n",
       "    </tr>\n",
       "    <tr>\n",
       "      <th>2</th>\n",
       "      <td>Church of 8 Wheels</td>\n",
       "      <td>37.774733</td>\n",
       "      <td>-122.430862</td>\n",
       "      <td>Roller Rink</td>\n",
       "    </tr>\n",
       "    <tr>\n",
       "      <th>3</th>\n",
       "      <td>Originals Vinyl</td>\n",
       "      <td>37.775835</td>\n",
       "      <td>-122.431227</td>\n",
       "      <td>Record Shop</td>\n",
       "    </tr>\n",
       "    <tr>\n",
       "      <th>4</th>\n",
       "      <td>Maven</td>\n",
       "      <td>37.771952</td>\n",
       "      <td>-122.432055</td>\n",
       "      <td>Cocktail Bar</td>\n",
       "    </tr>\n",
       "    <tr>\n",
       "      <th>5</th>\n",
       "      <td>Painted Ladies</td>\n",
       "      <td>37.776120</td>\n",
       "      <td>-122.433389</td>\n",
       "      <td>Historic Site</td>\n",
       "    </tr>\n",
       "    <tr>\n",
       "      <th>6</th>\n",
       "      <td>Réveille Coffee Co.</td>\n",
       "      <td>37.770978</td>\n",
       "      <td>-122.432029</td>\n",
       "      <td>Coffee Shop</td>\n",
       "    </tr>\n",
       "    <tr>\n",
       "      <th>7</th>\n",
       "      <td>Alamo Square</td>\n",
       "      <td>37.775881</td>\n",
       "      <td>-122.434412</td>\n",
       "      <td>Park</td>\n",
       "    </tr>\n",
       "    <tr>\n",
       "      <th>8</th>\n",
       "      <td>Wiggle Bicycles</td>\n",
       "      <td>37.770954</td>\n",
       "      <td>-122.432215</td>\n",
       "      <td>Bike Shop</td>\n",
       "    </tr>\n",
       "    <tr>\n",
       "      <th>9</th>\n",
       "      <td>Uva Enoteca</td>\n",
       "      <td>37.772011</td>\n",
       "      <td>-122.431556</td>\n",
       "      <td>Italian Restaurant</td>\n",
       "    </tr>\n",
       "  </tbody>\n",
       "</table>\n",
       "</div>"
      ],
      "text/plain": [
       "                 Venue  Venue Latitude  Venue Longitude      Venue Category\n",
       "0        The Center SF       37.774545      -122.430730    Spiritual Center\n",
       "1             Toronado       37.771941      -122.431223            Dive Bar\n",
       "2   Church of 8 Wheels       37.774733      -122.430862         Roller Rink\n",
       "3      Originals Vinyl       37.775835      -122.431227         Record Shop\n",
       "4                Maven       37.771952      -122.432055        Cocktail Bar\n",
       "5       Painted Ladies       37.776120      -122.433389       Historic Site\n",
       "6  Réveille Coffee Co.       37.770978      -122.432029         Coffee Shop\n",
       "7         Alamo Square       37.775881      -122.434412                Park\n",
       "8      Wiggle Bicycles       37.770954      -122.432215           Bike Shop\n",
       "9          Uva Enoteca       37.772011      -122.431556  Italian Restaurant"
      ]
     },
     "execution_count": 8,
     "metadata": {},
     "output_type": "execute_result"
    }
   ],
   "source": [
    "venues_list_sf=[]\n",
    "results_sf = requests.get(url_sf).json()[\"response\"]['groups'][0]['items']\n",
    "\n",
    "# return only relevant information\n",
    "venues_list_sf.append([(\n",
    "    v['venue']['name'], \n",
    "    v['venue']['location']['lat'], \n",
    "    v['venue']['location']['lng'],  \n",
    "    v['venue']['categories'][0]['name']) for v in results_sf])\n",
    "\n",
    "sf_venues = pd.DataFrame([item for venue_list_sf in venues_list_sf for item in venue_list_sf])\n",
    "sf_venues.columns = [\n",
    "    'Venue', \n",
    "    'Venue Latitude', \n",
    "    'Venue Longitude', \n",
    "    'Venue Category']\n",
    "\n",
    "sf_venues.head(10)"
   ]
  }
 ],
 "metadata": {
  "kernelspec": {
   "display_name": "Python 3",
   "language": "python",
   "name": "python3"
  },
  "language_info": {
   "codemirror_mode": {
    "name": "ipython",
    "version": 3
   },
   "file_extension": ".py",
   "mimetype": "text/x-python",
   "name": "python",
   "nbconvert_exporter": "python",
   "pygments_lexer": "ipython3",
   "version": "3.8.3"
  }
 },
 "nbformat": 4,
 "nbformat_minor": 4
}
